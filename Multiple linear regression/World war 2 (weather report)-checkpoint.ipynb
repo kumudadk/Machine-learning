{
 "cells": [
  {
   "cell_type": "markdown",
   "metadata": {},
   "source": [
    "# Multiple linear regression on World war 2(Weather report)\n"
   ]
  },
  {
   "cell_type": "code",
   "execution_count": 5,
   "metadata": {},
   "outputs": [],
   "source": [
    "import pandas as pd\n",
    "import numpy as np\n",
    "import seaborn as sns\n",
    "import matplotlib.pyplot as plt\n",
    "%matplotlib inline"
   ]
  },
  {
   "cell_type": "markdown",
   "metadata": {},
   "source": [
    "## Loading the data set"
   ]
  },
  {
   "cell_type": "code",
   "execution_count": 6,
   "metadata": {},
   "outputs": [
    {
     "name": "stderr",
     "output_type": "stream",
     "text": [
      "C:\\MY_SOFTWARES\\ANACONDA\\lib\\site-packages\\IPython\\core\\interactiveshell.py:3057: DtypeWarning: Columns (7,8,18,25) have mixed types. Specify dtype option on import or set low_memory=False.\n",
      "  interactivity=interactivity, compiler=compiler, result=result)\n"
     ]
    }
   ],
   "source": [
    "Weather =pd.read_csv(r'C:\\Users\\asus\\Desktop\\Weather.csv')\n",
    "\n",
    "climate= pd.DataFrame(Weather)"
   ]
  },
  {
   "cell_type": "code",
   "execution_count": 7,
   "metadata": {},
   "outputs": [
    {
     "data": {
      "text/html": [
       "<div>\n",
       "<style scoped>\n",
       "    .dataframe tbody tr th:only-of-type {\n",
       "        vertical-align: middle;\n",
       "    }\n",
       "\n",
       "    .dataframe tbody tr th {\n",
       "        vertical-align: top;\n",
       "    }\n",
       "\n",
       "    .dataframe thead th {\n",
       "        text-align: right;\n",
       "    }\n",
       "</style>\n",
       "<table border=\"1\" class=\"dataframe\">\n",
       "  <thead>\n",
       "    <tr style=\"text-align: right;\">\n",
       "      <th></th>\n",
       "      <th>STA</th>\n",
       "      <th>Date</th>\n",
       "      <th>Precip</th>\n",
       "      <th>WindGustSpd</th>\n",
       "      <th>MaxTemp</th>\n",
       "      <th>MinTemp</th>\n",
       "      <th>MeanTemp</th>\n",
       "      <th>Snowfall</th>\n",
       "      <th>PoorWeather</th>\n",
       "      <th>YR</th>\n",
       "      <th>...</th>\n",
       "      <th>FB</th>\n",
       "      <th>FTI</th>\n",
       "      <th>ITH</th>\n",
       "      <th>PGT</th>\n",
       "      <th>TSHDSBRSGF</th>\n",
       "      <th>SD3</th>\n",
       "      <th>RHX</th>\n",
       "      <th>RHN</th>\n",
       "      <th>RVG</th>\n",
       "      <th>WTE</th>\n",
       "    </tr>\n",
       "  </thead>\n",
       "  <tbody>\n",
       "    <tr>\n",
       "      <th>0</th>\n",
       "      <td>10001</td>\n",
       "      <td>1942-7-1</td>\n",
       "      <td>1.016</td>\n",
       "      <td>NaN</td>\n",
       "      <td>25.555556</td>\n",
       "      <td>22.222222</td>\n",
       "      <td>23.888889</td>\n",
       "      <td>0</td>\n",
       "      <td>NaN</td>\n",
       "      <td>42</td>\n",
       "      <td>...</td>\n",
       "      <td>NaN</td>\n",
       "      <td>NaN</td>\n",
       "      <td>NaN</td>\n",
       "      <td>NaN</td>\n",
       "      <td>NaN</td>\n",
       "      <td>NaN</td>\n",
       "      <td>NaN</td>\n",
       "      <td>NaN</td>\n",
       "      <td>NaN</td>\n",
       "      <td>NaN</td>\n",
       "    </tr>\n",
       "    <tr>\n",
       "      <th>1</th>\n",
       "      <td>10001</td>\n",
       "      <td>1942-7-2</td>\n",
       "      <td>0</td>\n",
       "      <td>NaN</td>\n",
       "      <td>28.888889</td>\n",
       "      <td>21.666667</td>\n",
       "      <td>25.555556</td>\n",
       "      <td>0</td>\n",
       "      <td>NaN</td>\n",
       "      <td>42</td>\n",
       "      <td>...</td>\n",
       "      <td>NaN</td>\n",
       "      <td>NaN</td>\n",
       "      <td>NaN</td>\n",
       "      <td>NaN</td>\n",
       "      <td>NaN</td>\n",
       "      <td>NaN</td>\n",
       "      <td>NaN</td>\n",
       "      <td>NaN</td>\n",
       "      <td>NaN</td>\n",
       "      <td>NaN</td>\n",
       "    </tr>\n",
       "    <tr>\n",
       "      <th>2</th>\n",
       "      <td>10001</td>\n",
       "      <td>1942-7-3</td>\n",
       "      <td>2.54</td>\n",
       "      <td>NaN</td>\n",
       "      <td>26.111111</td>\n",
       "      <td>22.222222</td>\n",
       "      <td>24.444444</td>\n",
       "      <td>0</td>\n",
       "      <td>NaN</td>\n",
       "      <td>42</td>\n",
       "      <td>...</td>\n",
       "      <td>NaN</td>\n",
       "      <td>NaN</td>\n",
       "      <td>NaN</td>\n",
       "      <td>NaN</td>\n",
       "      <td>NaN</td>\n",
       "      <td>NaN</td>\n",
       "      <td>NaN</td>\n",
       "      <td>NaN</td>\n",
       "      <td>NaN</td>\n",
       "      <td>NaN</td>\n",
       "    </tr>\n",
       "    <tr>\n",
       "      <th>3</th>\n",
       "      <td>10001</td>\n",
       "      <td>1942-7-4</td>\n",
       "      <td>2.54</td>\n",
       "      <td>NaN</td>\n",
       "      <td>26.666667</td>\n",
       "      <td>22.222222</td>\n",
       "      <td>24.444444</td>\n",
       "      <td>0</td>\n",
       "      <td>NaN</td>\n",
       "      <td>42</td>\n",
       "      <td>...</td>\n",
       "      <td>NaN</td>\n",
       "      <td>NaN</td>\n",
       "      <td>NaN</td>\n",
       "      <td>NaN</td>\n",
       "      <td>NaN</td>\n",
       "      <td>NaN</td>\n",
       "      <td>NaN</td>\n",
       "      <td>NaN</td>\n",
       "      <td>NaN</td>\n",
       "      <td>NaN</td>\n",
       "    </tr>\n",
       "    <tr>\n",
       "      <th>4</th>\n",
       "      <td>10001</td>\n",
       "      <td>1942-7-5</td>\n",
       "      <td>0</td>\n",
       "      <td>NaN</td>\n",
       "      <td>26.666667</td>\n",
       "      <td>21.666667</td>\n",
       "      <td>24.444444</td>\n",
       "      <td>0</td>\n",
       "      <td>NaN</td>\n",
       "      <td>42</td>\n",
       "      <td>...</td>\n",
       "      <td>NaN</td>\n",
       "      <td>NaN</td>\n",
       "      <td>NaN</td>\n",
       "      <td>NaN</td>\n",
       "      <td>NaN</td>\n",
       "      <td>NaN</td>\n",
       "      <td>NaN</td>\n",
       "      <td>NaN</td>\n",
       "      <td>NaN</td>\n",
       "      <td>NaN</td>\n",
       "    </tr>\n",
       "  </tbody>\n",
       "</table>\n",
       "<p>5 rows × 31 columns</p>\n",
       "</div>"
      ],
      "text/plain": [
       "     STA      Date Precip  WindGustSpd    MaxTemp    MinTemp   MeanTemp  \\\n",
       "0  10001  1942-7-1  1.016          NaN  25.555556  22.222222  23.888889   \n",
       "1  10001  1942-7-2      0          NaN  28.888889  21.666667  25.555556   \n",
       "2  10001  1942-7-3   2.54          NaN  26.111111  22.222222  24.444444   \n",
       "3  10001  1942-7-4   2.54          NaN  26.666667  22.222222  24.444444   \n",
       "4  10001  1942-7-5      0          NaN  26.666667  21.666667  24.444444   \n",
       "\n",
       "  Snowfall PoorWeather  YR  ...  FB  FTI ITH  PGT  TSHDSBRSGF  SD3  RHX  RHN  \\\n",
       "0        0         NaN  42  ... NaN  NaN NaN  NaN         NaN  NaN  NaN  NaN   \n",
       "1        0         NaN  42  ... NaN  NaN NaN  NaN         NaN  NaN  NaN  NaN   \n",
       "2        0         NaN  42  ... NaN  NaN NaN  NaN         NaN  NaN  NaN  NaN   \n",
       "3        0         NaN  42  ... NaN  NaN NaN  NaN         NaN  NaN  NaN  NaN   \n",
       "4        0         NaN  42  ... NaN  NaN NaN  NaN         NaN  NaN  NaN  NaN   \n",
       "\n",
       "  RVG  WTE  \n",
       "0 NaN  NaN  \n",
       "1 NaN  NaN  \n",
       "2 NaN  NaN  \n",
       "3 NaN  NaN  \n",
       "4 NaN  NaN  \n",
       "\n",
       "[5 rows x 31 columns]"
      ]
     },
     "execution_count": 7,
     "metadata": {},
     "output_type": "execute_result"
    }
   ],
   "source": [
    "climate.head()"
   ]
  },
  {
   "cell_type": "code",
   "execution_count": 8,
   "metadata": {},
   "outputs": [
    {
     "data": {
      "text/plain": [
       "<bound method DataFrame.info of           STA        Date  Precip  WindGustSpd    MaxTemp    MinTemp  \\\n",
       "0       10001    1942-7-1   1.016          NaN  25.555556  22.222222   \n",
       "1       10001    1942-7-2       0          NaN  28.888889  21.666667   \n",
       "2       10001    1942-7-3    2.54          NaN  26.111111  22.222222   \n",
       "3       10001    1942-7-4    2.54          NaN  26.666667  22.222222   \n",
       "4       10001    1942-7-5       0          NaN  26.666667  21.666667   \n",
       "5       10001    1942-7-6       0          NaN  26.666667  21.666667   \n",
       "6       10001    1942-7-7       T          NaN  28.333333  22.777778   \n",
       "7       10001    1942-7-8   3.556          NaN  26.666667  22.222222   \n",
       "8       10001    1942-7-9       T          NaN  27.222222  22.777778   \n",
       "9       10001   1942-7-10   3.556          NaN  25.555556  21.666667   \n",
       "10      10001   1942-7-11       0          NaN  25.555556  21.666667   \n",
       "11      10001   1942-7-12   0.508          NaN  24.444444  22.222222   \n",
       "12      10001   1942-7-13       0          NaN  26.111111  21.666667   \n",
       "13      10001   1942-7-14       0          NaN  26.111111  22.222222   \n",
       "14      10001   1942-7-15       0          NaN  25.555556  22.777778   \n",
       "15      10001   1942-7-16       T          NaN  26.111111  21.111111   \n",
       "16      10001   1942-7-17       T          NaN  28.333333  22.222222   \n",
       "17      10001   1942-7-18       T          NaN  26.666667  21.111111   \n",
       "18      10001   1942-7-19       0          NaN  27.777778  21.666667   \n",
       "19      10001   1942-7-20       0          NaN  26.111111  20.000000   \n",
       "20      10001   1942-7-21       T          NaN  24.444444  21.666667   \n",
       "21      10001   1942-7-22       T          NaN  24.444444  21.111111   \n",
       "22      10001   1942-7-23       0          NaN  26.666667  20.555556   \n",
       "23      10001   1942-7-24       0          NaN  27.222222  18.888889   \n",
       "24      10001   1942-7-25       0          NaN  27.222222  19.444444   \n",
       "25      10001   1942-7-26       0          NaN  25.555556  19.444444   \n",
       "26      10001   1942-7-27       0          NaN  25.555556  19.444444   \n",
       "27      10001   1942-7-28       0          NaN  26.666667  19.444444   \n",
       "28      10001   1942-7-29       0          NaN  26.666667  19.444444   \n",
       "29      10001   1942-7-30       0          NaN  27.222222  19.444444   \n",
       "...       ...         ...     ...          ...        ...        ...   \n",
       "119010  82506   1945-12-2  24.384          NaN  28.333333  18.888889   \n",
       "119011  82506   1945-12-3   0.762          NaN  27.777778  18.333333   \n",
       "119012  82506   1945-12-4  36.068          NaN  29.444444  17.777778   \n",
       "119013  82506   1945-12-5  12.446          NaN  21.111111  17.222222   \n",
       "119014  82506   1945-12-6       T          NaN  27.222222  17.777778   \n",
       "119015  82506   1945-12-7       0          NaN  27.222222  17.222222   \n",
       "119016  82506   1945-12-8   0.762          NaN  26.111111  19.444444   \n",
       "119017  82506   1945-12-9       0          NaN  30.555556  19.444444   \n",
       "119018  82506  1945-12-10       T          NaN  30.000000  19.444444   \n",
       "119019  82506  1945-12-11   0.254          NaN  28.888889  22.777778   \n",
       "119020  82506  1945-12-12       0          NaN  30.555556  22.222222   \n",
       "119021  82506  1945-12-13  19.304          NaN  32.222222  20.000000   \n",
       "119022  82506  1945-12-14       0          NaN  31.111111  20.555556   \n",
       "119023  82506  1945-12-15   0.762          NaN  30.555556  20.555556   \n",
       "119024  82506  1945-12-16       0          NaN  29.444444  21.666667   \n",
       "119025  82506  1945-12-17       0          NaN  28.888889  21.111111   \n",
       "119026  82506  1945-12-18  19.812          NaN  30.555556  19.444444   \n",
       "119027  82506  1945-12-19   10.16          NaN  25.555556  18.888889   \n",
       "119028  82506  1945-12-20       0          NaN  26.666667  17.777778   \n",
       "119029  82506  1945-12-21       0          NaN  28.888889  18.888889   \n",
       "119030  82506  1945-12-22       0          NaN  28.888889  17.222222   \n",
       "119031  82506  1945-12-23       T          NaN  28.333333  18.333333   \n",
       "119032  82506  1945-12-24       0          NaN  28.333333  20.000000   \n",
       "119033  82506  1945-12-25   0.508          NaN  28.888889  18.888889   \n",
       "119034  82506  1945-12-26       0          NaN  29.444444  18.888889   \n",
       "119035  82506  1945-12-27       0          NaN  28.333333  18.333333   \n",
       "119036  82506  1945-12-28   9.906          NaN  29.444444  18.333333   \n",
       "119037  82506  1945-12-29       0          NaN  28.333333  18.333333   \n",
       "119038  82506  1945-12-30       0          NaN  28.333333  18.333333   \n",
       "119039  82506  1945-12-31       0          NaN  29.444444  17.222222   \n",
       "\n",
       "         MeanTemp Snowfall PoorWeather  YR  ...  FB  FTI ITH  PGT  TSHDSBRSGF  \\\n",
       "0       23.888889        0         NaN  42  ... NaN  NaN NaN  NaN         NaN   \n",
       "1       25.555556        0         NaN  42  ... NaN  NaN NaN  NaN         NaN   \n",
       "2       24.444444        0         NaN  42  ... NaN  NaN NaN  NaN         NaN   \n",
       "3       24.444444        0         NaN  42  ... NaN  NaN NaN  NaN         NaN   \n",
       "4       24.444444        0         NaN  42  ... NaN  NaN NaN  NaN         NaN   \n",
       "5       24.444444        0         NaN  42  ... NaN  NaN NaN  NaN         NaN   \n",
       "6       25.555556        0         NaN  42  ... NaN  NaN NaN  NaN         NaN   \n",
       "7       24.444444        0         NaN  42  ... NaN  NaN NaN  NaN         NaN   \n",
       "8       25.000000        0         NaN  42  ... NaN  NaN NaN  NaN         NaN   \n",
       "9       23.333333        0         NaN  42  ... NaN  NaN NaN  NaN         NaN   \n",
       "10      23.333333        0         NaN  42  ... NaN  NaN NaN  NaN         NaN   \n",
       "11      23.333333        0         NaN  42  ... NaN  NaN NaN  NaN         NaN   \n",
       "12      23.888889        0         NaN  42  ... NaN  NaN NaN  NaN         NaN   \n",
       "13      24.444444        0         NaN  42  ... NaN  NaN NaN  NaN         NaN   \n",
       "14      24.444444        0         NaN  42  ... NaN  NaN NaN  NaN         NaN   \n",
       "15      23.333333        0         NaN  42  ... NaN  NaN NaN  NaN         NaN   \n",
       "16      25.555556        0         NaN  42  ... NaN  NaN NaN  NaN         NaN   \n",
       "17      23.888889        0         NaN  42  ... NaN  NaN NaN  NaN         NaN   \n",
       "18      24.444444        0         NaN  42  ... NaN  NaN NaN  NaN         NaN   \n",
       "19      23.333333        0         NaN  42  ... NaN  NaN NaN  NaN         NaN   \n",
       "20      23.333333        0         NaN  42  ... NaN  NaN NaN  NaN         NaN   \n",
       "21      22.777778        0         NaN  42  ... NaN  NaN NaN  NaN         NaN   \n",
       "22      23.333333        0         NaN  42  ... NaN  NaN NaN  NaN         NaN   \n",
       "23      23.333333        0         NaN  42  ... NaN  NaN NaN  NaN         NaN   \n",
       "24      23.333333        0         NaN  42  ... NaN  NaN NaN  NaN         NaN   \n",
       "25      22.222222        0         NaN  42  ... NaN  NaN NaN  NaN         NaN   \n",
       "26      22.777778        0         NaN  42  ... NaN  NaN NaN  NaN         NaN   \n",
       "27      23.333333        0         NaN  42  ... NaN  NaN NaN  NaN         NaN   \n",
       "28      23.333333        0         NaN  42  ... NaN  NaN NaN  NaN         NaN   \n",
       "29      23.333333        0         NaN  42  ... NaN  NaN NaN  NaN         NaN   \n",
       "...           ...      ...         ...  ..  ...  ..  ...  ..  ...         ...   \n",
       "119010  23.333333        0           1  45  ... NaN  NaN NaN  NaN           1   \n",
       "119011  23.333333        0           1  45  ... NaN  NaN NaN  NaN           1   \n",
       "119012  23.333333        0           1  45  ... NaN  NaN NaN  NaN           1   \n",
       "119013  18.888889        0           1  45  ... NaN  NaN NaN  NaN           1   \n",
       "119014  22.222222        0           1  45  ... NaN  NaN NaN  NaN           1   \n",
       "119015  22.222222        0         NaN  45  ... NaN  NaN NaN  NaN         NaN   \n",
       "119016  22.777778        0           1  45  ... NaN  NaN NaN  NaN           1   \n",
       "119017  25.000000        0         NaN  45  ... NaN  NaN NaN  NaN         NaN   \n",
       "119018  24.444444        0         NaN  45  ... NaN  NaN NaN  NaN         NaN   \n",
       "119019  25.555556        0           1  45  ... NaN  NaN NaN  NaN           1   \n",
       "119020  26.666667        0         NaN  45  ... NaN  NaN NaN  NaN         NaN   \n",
       "119021  26.111111        0           1  45  ... NaN  NaN NaN  NaN           1   \n",
       "119022  25.555556        0         NaN  45  ... NaN  NaN NaN  NaN         NaN   \n",
       "119023  25.555556        0           1  45  ... NaN  NaN NaN  NaN           1   \n",
       "119024  25.555556        0         NaN  45  ... NaN  NaN NaN  NaN         NaN   \n",
       "119025  25.000000        0         NaN  45  ... NaN  NaN NaN  NaN         NaN   \n",
       "119026  25.000000        0           1  45  ... NaN  NaN NaN  NaN           1   \n",
       "119027  22.222222        0           1  45  ... NaN  NaN NaN  NaN           1   \n",
       "119028  22.222222        0         NaN  45  ... NaN  NaN NaN  NaN         NaN   \n",
       "119029  23.888889        0         NaN  45  ... NaN  NaN NaN  NaN         NaN   \n",
       "119030  23.333333        0         NaN  45  ... NaN  NaN NaN  NaN         NaN   \n",
       "119031  23.333333        0           1  45  ... NaN  NaN NaN  NaN           1   \n",
       "119032  24.444444        0         NaN  45  ... NaN  NaN NaN  NaN         NaN   \n",
       "119033  23.888889        0           1  45  ... NaN  NaN NaN  NaN           1   \n",
       "119034  24.444444        0         NaN  45  ... NaN  NaN NaN  NaN         NaN   \n",
       "119035  23.333333        0         NaN  45  ... NaN  NaN NaN  NaN         NaN   \n",
       "119036  23.888889        0           1  45  ... NaN  NaN NaN  NaN           1   \n",
       "119037  23.333333        0           1  45  ... NaN  NaN NaN  NaN           1   \n",
       "119038  23.333333        0         NaN  45  ... NaN  NaN NaN  NaN         NaN   \n",
       "119039  23.333333        0         NaN  45  ... NaN  NaN NaN  NaN         NaN   \n",
       "\n",
       "        SD3  RHX  RHN RVG  WTE  \n",
       "0       NaN  NaN  NaN NaN  NaN  \n",
       "1       NaN  NaN  NaN NaN  NaN  \n",
       "2       NaN  NaN  NaN NaN  NaN  \n",
       "3       NaN  NaN  NaN NaN  NaN  \n",
       "4       NaN  NaN  NaN NaN  NaN  \n",
       "5       NaN  NaN  NaN NaN  NaN  \n",
       "6       NaN  NaN  NaN NaN  NaN  \n",
       "7       NaN  NaN  NaN NaN  NaN  \n",
       "8       NaN  NaN  NaN NaN  NaN  \n",
       "9       NaN  NaN  NaN NaN  NaN  \n",
       "10      NaN  NaN  NaN NaN  NaN  \n",
       "11      NaN  NaN  NaN NaN  NaN  \n",
       "12      NaN  NaN  NaN NaN  NaN  \n",
       "13      NaN  NaN  NaN NaN  NaN  \n",
       "14      NaN  NaN  NaN NaN  NaN  \n",
       "15      NaN  NaN  NaN NaN  NaN  \n",
       "16      NaN  NaN  NaN NaN  NaN  \n",
       "17      NaN  NaN  NaN NaN  NaN  \n",
       "18      NaN  NaN  NaN NaN  NaN  \n",
       "19      NaN  NaN  NaN NaN  NaN  \n",
       "20      NaN  NaN  NaN NaN  NaN  \n",
       "21      NaN  NaN  NaN NaN  NaN  \n",
       "22      NaN  NaN  NaN NaN  NaN  \n",
       "23      NaN  NaN  NaN NaN  NaN  \n",
       "24      NaN  NaN  NaN NaN  NaN  \n",
       "25      NaN  NaN  NaN NaN  NaN  \n",
       "26      NaN  NaN  NaN NaN  NaN  \n",
       "27      NaN  NaN  NaN NaN  NaN  \n",
       "28      NaN  NaN  NaN NaN  NaN  \n",
       "29      NaN  NaN  NaN NaN  NaN  \n",
       "...     ...  ...  ...  ..  ...  \n",
       "119010  NaN  NaN  NaN NaN  NaN  \n",
       "119011  NaN  NaN  NaN NaN  NaN  \n",
       "119012  NaN  NaN  NaN NaN  NaN  \n",
       "119013  NaN  NaN  NaN NaN  NaN  \n",
       "119014  NaN  NaN  NaN NaN  NaN  \n",
       "119015  NaN  NaN  NaN NaN  NaN  \n",
       "119016  NaN  NaN  NaN NaN  NaN  \n",
       "119017  NaN  NaN  NaN NaN  NaN  \n",
       "119018  NaN  NaN  NaN NaN  NaN  \n",
       "119019  NaN  NaN  NaN NaN  NaN  \n",
       "119020  NaN  NaN  NaN NaN  NaN  \n",
       "119021  NaN  NaN  NaN NaN  NaN  \n",
       "119022  NaN  NaN  NaN NaN  NaN  \n",
       "119023  NaN  NaN  NaN NaN  NaN  \n",
       "119024  NaN  NaN  NaN NaN  NaN  \n",
       "119025  NaN  NaN  NaN NaN  NaN  \n",
       "119026  NaN  NaN  NaN NaN  NaN  \n",
       "119027  NaN  NaN  NaN NaN  NaN  \n",
       "119028  NaN  NaN  NaN NaN  NaN  \n",
       "119029  NaN  NaN  NaN NaN  NaN  \n",
       "119030  NaN  NaN  NaN NaN  NaN  \n",
       "119031  NaN  NaN  NaN NaN  NaN  \n",
       "119032  NaN  NaN  NaN NaN  NaN  \n",
       "119033  NaN  NaN  NaN NaN  NaN  \n",
       "119034  NaN  NaN  NaN NaN  NaN  \n",
       "119035  NaN  NaN  NaN NaN  NaN  \n",
       "119036  NaN  NaN  NaN NaN  NaN  \n",
       "119037  NaN  NaN  NaN NaN  NaN  \n",
       "119038  NaN  NaN  NaN NaN  NaN  \n",
       "119039  NaN  NaN  NaN NaN  NaN  \n",
       "\n",
       "[119040 rows x 31 columns]>"
      ]
     },
     "execution_count": 8,
     "metadata": {},
     "output_type": "execute_result"
    }
   ],
   "source": [
    "climate.info"
   ]
  },
  {
   "cell_type": "code",
   "execution_count": 9,
   "metadata": {},
   "outputs": [
    {
     "data": {
      "text/plain": [
       "STA                 0\n",
       "Date                0\n",
       "Precip              0\n",
       "WindGustSpd    118508\n",
       "MaxTemp             0\n",
       "MinTemp             0\n",
       "MeanTemp            0\n",
       "Snowfall         1163\n",
       "PoorWeather     84803\n",
       "YR                  0\n",
       "MO                  0\n",
       "DA                  0\n",
       "PRCP             1932\n",
       "DR             118507\n",
       "SPD            118508\n",
       "MAX               474\n",
       "MIN               468\n",
       "MEA               498\n",
       "SNF              1163\n",
       "SND            113477\n",
       "FT             119040\n",
       "FB             119040\n",
       "FTI            119040\n",
       "ITH            119040\n",
       "PGT            118515\n",
       "TSHDSBRSGF      84803\n",
       "SD3            119040\n",
       "RHX            119040\n",
       "RHN            119040\n",
       "RVG            119040\n",
       "WTE            119040\n",
       "dtype: int64"
      ]
     },
     "execution_count": 9,
     "metadata": {},
     "output_type": "execute_result"
    }
   ],
   "source": [
    "climate.isnull().sum()"
   ]
  },
  {
   "cell_type": "code",
   "execution_count": 10,
   "metadata": {},
   "outputs": [
    {
     "data": {
      "text/plain": [
       "(119040, 31)"
      ]
     },
     "execution_count": 10,
     "metadata": {},
     "output_type": "execute_result"
    }
   ],
   "source": [
    "climate.shape"
   ]
  },
  {
   "cell_type": "code",
   "execution_count": 11,
   "metadata": {},
   "outputs": [
    {
     "data": {
      "text/plain": [
       "['STA',\n",
       " 'Date',\n",
       " 'Precip',\n",
       " 'WindGustSpd',\n",
       " 'MaxTemp',\n",
       " 'MinTemp',\n",
       " 'MeanTemp',\n",
       " 'Snowfall',\n",
       " 'PoorWeather',\n",
       " 'YR',\n",
       " 'MO',\n",
       " 'DA',\n",
       " 'PRCP',\n",
       " 'DR',\n",
       " 'SPD',\n",
       " 'MAX',\n",
       " 'MIN',\n",
       " 'MEA',\n",
       " 'SNF',\n",
       " 'SND',\n",
       " 'FT',\n",
       " 'FB',\n",
       " 'FTI',\n",
       " 'ITH',\n",
       " 'PGT',\n",
       " 'TSHDSBRSGF',\n",
       " 'SD3',\n",
       " 'RHX',\n",
       " 'RHN',\n",
       " 'RVG',\n",
       " 'WTE']"
      ]
     },
     "execution_count": 11,
     "metadata": {},
     "output_type": "execute_result"
    }
   ],
   "source": [
    "list(climate)"
   ]
  },
  {
   "cell_type": "code",
   "execution_count": 12,
   "metadata": {},
   "outputs": [
    {
     "data": {
      "text/plain": [
       "STA              int64\n",
       "Date            object\n",
       "Precip          object\n",
       "WindGustSpd    float64\n",
       "MaxTemp        float64\n",
       "MinTemp        float64\n",
       "MeanTemp       float64\n",
       "Snowfall        object\n",
       "PoorWeather     object\n",
       "YR               int64\n",
       "MO               int64\n",
       "DA               int64\n",
       "PRCP            object\n",
       "DR             float64\n",
       "SPD            float64\n",
       "MAX            float64\n",
       "MIN            float64\n",
       "MEA            float64\n",
       "SNF             object\n",
       "SND            float64\n",
       "FT             float64\n",
       "FB             float64\n",
       "FTI            float64\n",
       "ITH            float64\n",
       "PGT            float64\n",
       "TSHDSBRSGF      object\n",
       "SD3            float64\n",
       "RHX            float64\n",
       "RHN            float64\n",
       "RVG            float64\n",
       "WTE            float64\n",
       "dtype: object"
      ]
     },
     "execution_count": 12,
     "metadata": {},
     "output_type": "execute_result"
    }
   ],
   "source": [
    "climate.dtypes"
   ]
  },
  {
   "cell_type": "code",
   "execution_count": 13,
   "metadata": {},
   "outputs": [
    {
     "data": {
      "text/plain": [
       "array(['STA', 'Date', 'Precip', 'WindGustSpd', 'MaxTemp', 'MinTemp',\n",
       "       'MeanTemp', 'Snowfall', 'PoorWeather', 'YR', 'MO', 'DA', 'PRCP',\n",
       "       'DR', 'SPD', 'MAX', 'MIN', 'MEA', 'SNF', 'SND', 'FT', 'FB', 'FTI',\n",
       "       'ITH', 'PGT', 'TSHDSBRSGF', 'SD3', 'RHX', 'RHN', 'RVG', 'WTE'],\n",
       "      dtype=object)"
      ]
     },
     "execution_count": 13,
     "metadata": {},
     "output_type": "execute_result"
    }
   ],
   "source": [
    "climate.columns.values"
   ]
  },
  {
   "cell_type": "markdown",
   "metadata": {},
   "source": [
    "## Cleaning the Dataset"
   ]
  },
  {
   "cell_type": "code",
   "execution_count": 14,
   "metadata": {},
   "outputs": [],
   "source": [
    "to_drop=['Precip','STA','Date','WindGustSpd','Snowfall','PoorWeather', 'PRCP', 'DR', 'SPD', 'SNF', 'SND', 'FT', 'FB', 'FTI', 'ITH', 'PGT', 'TSHDSBRSGF', 'SD3', 'RHX', 'RHN', 'RVG', 'WTE']\n",
    "climate.drop(to_drop,inplace=True,axis=1)"
   ]
  },
  {
   "cell_type": "code",
   "execution_count": 15,
   "metadata": {},
   "outputs": [
    {
     "data": {
      "text/html": [
       "<div>\n",
       "<style scoped>\n",
       "    .dataframe tbody tr th:only-of-type {\n",
       "        vertical-align: middle;\n",
       "    }\n",
       "\n",
       "    .dataframe tbody tr th {\n",
       "        vertical-align: top;\n",
       "    }\n",
       "\n",
       "    .dataframe thead th {\n",
       "        text-align: right;\n",
       "    }\n",
       "</style>\n",
       "<table border=\"1\" class=\"dataframe\">\n",
       "  <thead>\n",
       "    <tr style=\"text-align: right;\">\n",
       "      <th></th>\n",
       "      <th>MaxTemp</th>\n",
       "      <th>MinTemp</th>\n",
       "      <th>MeanTemp</th>\n",
       "      <th>YR</th>\n",
       "      <th>MO</th>\n",
       "      <th>DA</th>\n",
       "      <th>MAX</th>\n",
       "      <th>MIN</th>\n",
       "      <th>MEA</th>\n",
       "    </tr>\n",
       "  </thead>\n",
       "  <tbody>\n",
       "    <tr>\n",
       "      <th>0</th>\n",
       "      <td>25.555556</td>\n",
       "      <td>22.222222</td>\n",
       "      <td>23.888889</td>\n",
       "      <td>42</td>\n",
       "      <td>7</td>\n",
       "      <td>1</td>\n",
       "      <td>78.0</td>\n",
       "      <td>72.0</td>\n",
       "      <td>75.0</td>\n",
       "    </tr>\n",
       "    <tr>\n",
       "      <th>1</th>\n",
       "      <td>28.888889</td>\n",
       "      <td>21.666667</td>\n",
       "      <td>25.555556</td>\n",
       "      <td>42</td>\n",
       "      <td>7</td>\n",
       "      <td>2</td>\n",
       "      <td>84.0</td>\n",
       "      <td>71.0</td>\n",
       "      <td>78.0</td>\n",
       "    </tr>\n",
       "    <tr>\n",
       "      <th>2</th>\n",
       "      <td>26.111111</td>\n",
       "      <td>22.222222</td>\n",
       "      <td>24.444444</td>\n",
       "      <td>42</td>\n",
       "      <td>7</td>\n",
       "      <td>3</td>\n",
       "      <td>79.0</td>\n",
       "      <td>72.0</td>\n",
       "      <td>76.0</td>\n",
       "    </tr>\n",
       "    <tr>\n",
       "      <th>3</th>\n",
       "      <td>26.666667</td>\n",
       "      <td>22.222222</td>\n",
       "      <td>24.444444</td>\n",
       "      <td>42</td>\n",
       "      <td>7</td>\n",
       "      <td>4</td>\n",
       "      <td>80.0</td>\n",
       "      <td>72.0</td>\n",
       "      <td>76.0</td>\n",
       "    </tr>\n",
       "    <tr>\n",
       "      <th>4</th>\n",
       "      <td>26.666667</td>\n",
       "      <td>21.666667</td>\n",
       "      <td>24.444444</td>\n",
       "      <td>42</td>\n",
       "      <td>7</td>\n",
       "      <td>5</td>\n",
       "      <td>80.0</td>\n",
       "      <td>71.0</td>\n",
       "      <td>76.0</td>\n",
       "    </tr>\n",
       "    <tr>\n",
       "      <th>5</th>\n",
       "      <td>26.666667</td>\n",
       "      <td>21.666667</td>\n",
       "      <td>24.444444</td>\n",
       "      <td>42</td>\n",
       "      <td>7</td>\n",
       "      <td>6</td>\n",
       "      <td>80.0</td>\n",
       "      <td>71.0</td>\n",
       "      <td>76.0</td>\n",
       "    </tr>\n",
       "    <tr>\n",
       "      <th>6</th>\n",
       "      <td>28.333333</td>\n",
       "      <td>22.777778</td>\n",
       "      <td>25.555556</td>\n",
       "      <td>42</td>\n",
       "      <td>7</td>\n",
       "      <td>7</td>\n",
       "      <td>83.0</td>\n",
       "      <td>73.0</td>\n",
       "      <td>78.0</td>\n",
       "    </tr>\n",
       "    <tr>\n",
       "      <th>7</th>\n",
       "      <td>26.666667</td>\n",
       "      <td>22.222222</td>\n",
       "      <td>24.444444</td>\n",
       "      <td>42</td>\n",
       "      <td>7</td>\n",
       "      <td>8</td>\n",
       "      <td>80.0</td>\n",
       "      <td>72.0</td>\n",
       "      <td>76.0</td>\n",
       "    </tr>\n",
       "    <tr>\n",
       "      <th>8</th>\n",
       "      <td>27.222222</td>\n",
       "      <td>22.777778</td>\n",
       "      <td>25.000000</td>\n",
       "      <td>42</td>\n",
       "      <td>7</td>\n",
       "      <td>9</td>\n",
       "      <td>81.0</td>\n",
       "      <td>73.0</td>\n",
       "      <td>77.0</td>\n",
       "    </tr>\n",
       "    <tr>\n",
       "      <th>9</th>\n",
       "      <td>25.555556</td>\n",
       "      <td>21.666667</td>\n",
       "      <td>23.333333</td>\n",
       "      <td>42</td>\n",
       "      <td>7</td>\n",
       "      <td>10</td>\n",
       "      <td>78.0</td>\n",
       "      <td>71.0</td>\n",
       "      <td>74.0</td>\n",
       "    </tr>\n",
       "  </tbody>\n",
       "</table>\n",
       "</div>"
      ],
      "text/plain": [
       "     MaxTemp    MinTemp   MeanTemp  YR  MO  DA   MAX   MIN   MEA\n",
       "0  25.555556  22.222222  23.888889  42   7   1  78.0  72.0  75.0\n",
       "1  28.888889  21.666667  25.555556  42   7   2  84.0  71.0  78.0\n",
       "2  26.111111  22.222222  24.444444  42   7   3  79.0  72.0  76.0\n",
       "3  26.666667  22.222222  24.444444  42   7   4  80.0  72.0  76.0\n",
       "4  26.666667  21.666667  24.444444  42   7   5  80.0  71.0  76.0\n",
       "5  26.666667  21.666667  24.444444  42   7   6  80.0  71.0  76.0\n",
       "6  28.333333  22.777778  25.555556  42   7   7  83.0  73.0  78.0\n",
       "7  26.666667  22.222222  24.444444  42   7   8  80.0  72.0  76.0\n",
       "8  27.222222  22.777778  25.000000  42   7   9  81.0  73.0  77.0\n",
       "9  25.555556  21.666667  23.333333  42   7  10  78.0  71.0  74.0"
      ]
     },
     "execution_count": 15,
     "metadata": {},
     "output_type": "execute_result"
    }
   ],
   "source": [
    "climate.head(10)"
   ]
  },
  {
   "cell_type": "code",
   "execution_count": 16,
   "metadata": {},
   "outputs": [],
   "source": [
    "climate=climate[~climate['MAX'].isna()]"
   ]
  },
  {
   "cell_type": "code",
   "execution_count": 17,
   "metadata": {},
   "outputs": [],
   "source": [
    "climate=climate[~climate['MIN'].isna()]"
   ]
  },
  {
   "cell_type": "code",
   "execution_count": 18,
   "metadata": {},
   "outputs": [],
   "source": [
    "climate=climate[~climate['MEA'].isna()]"
   ]
  },
  {
   "cell_type": "code",
   "execution_count": 19,
   "metadata": {},
   "outputs": [],
   "source": [
    "climate=climate[~climate['MaxTemp'].isna()]"
   ]
  },
  {
   "cell_type": "code",
   "execution_count": 20,
   "metadata": {},
   "outputs": [],
   "source": [
    "climate=climate[~climate['MinTemp'].isna()]"
   ]
  },
  {
   "cell_type": "code",
   "execution_count": 21,
   "metadata": {},
   "outputs": [],
   "source": [
    "climate=climate[~climate['MeanTemp'].isna()]"
   ]
  },
  {
   "cell_type": "code",
   "execution_count": 22,
   "metadata": {},
   "outputs": [
    {
     "name": "stdout",
     "output_type": "stream",
     "text": [
      "<class 'pandas.core.frame.DataFrame'>\n",
      "Int64Index: 118540 entries, 0 to 119039\n",
      "Data columns (total 9 columns):\n",
      "MaxTemp     118540 non-null float64\n",
      "MinTemp     118540 non-null float64\n",
      "MeanTemp    118540 non-null float64\n",
      "YR          118540 non-null int64\n",
      "MO          118540 non-null int64\n",
      "DA          118540 non-null int64\n",
      "MAX         118540 non-null float64\n",
      "MIN         118540 non-null float64\n",
      "MEA         118540 non-null float64\n",
      "dtypes: float64(6), int64(3)\n",
      "memory usage: 9.0 MB\n"
     ]
    }
   ],
   "source": [
    "climate.info()"
   ]
  },
  {
   "cell_type": "markdown",
   "metadata": {},
   "source": [
    "## Plotting\n",
    "# Data visualization"
   ]
  },
  {
   "cell_type": "code",
   "execution_count": 12,
   "metadata": {},
   "outputs": [
    {
     "data": {
      "text/plain": [
       "<matplotlib.axes._subplots.AxesSubplot at 0x17254d179b0>"
      ]
     },
     "execution_count": 12,
     "metadata": {},
     "output_type": "execute_result"
    },
    {
     "data": {
      "image/png": "[encoded data removed]",
      "text/plain": [
       "<Figure size 432x288 with 1 Axes>"
      ]
     },
     "metadata": {
      "needs_background": "light"
     },
     "output_type": "display_data"
    }
   ],
   "source": [
    "sns.distplot(climate['MaxTemp'],kde = False)"
   ]
  },
  {
   "cell_type": "code",
   "execution_count": 13,
   "metadata": {},
   "outputs": [
    {
     "data": {
      "image/png": "[encoded data removed]",
      "text/plain": [
       "<Figure size 432x288 with 1 Axes>"
      ]
     },
     "metadata": {
      "needs_background": "light"
     },
     "output_type": "display_data"
    }
   ],
   "source": [
    "sns.barplot(x = 'MaxTemp', y = 'MinTemp', data =climate,\n",
    "            palette = 'PuRd')\n",
    "plt.show()"
   ]
  },
  {
   "cell_type": "code",
   "execution_count": 75,
   "metadata": {},
   "outputs": [
    {
     "data": {
      "image/png": "[encoded data removed]",
      "text/plain": [
       "<Figure size 432x288 with 1 Axes>"
      ]
     },
     "metadata": {
      "needs_background": "light"
     },
     "output_type": "display_data"
    }
   ],
   "source": [
    "sns.countplot(x = 'MAX', data = climate, palette = 'magma')\n",
    "plt.title('Weather')\n",
    "plt.show()"
   ]
  },
  {
   "cell_type": "code",
   "execution_count": 18,
   "metadata": {},
   "outputs": [
    {
     "data": {
      "image/png": "[encoded data removed]",
      "text/plain": [
       "<Figure size 432x288 with 1 Axes>"
      ]
     },
     "metadata": {
      "needs_background": "light"
     },
     "output_type": "display_data"
    }
   ],
   "source": [
    "sns.pointplot(x=\"MaxTemp\", y=\"MinTemp\", data=climate)\n",
    "plt.show()"
   ]
  },
  {
   "cell_type": "code",
   "execution_count": 19,
   "metadata": {},
   "outputs": [
    {
     "data": {
      "text/plain": [
       "<matplotlib.axes._subplots.AxesSubplot at 0x1e2864400f0>"
      ]
     },
     "execution_count": 19,
     "metadata": {},
     "output_type": "execute_result"
    },
    {
     "data": {
      "image/png": "[encoded data removed]",
      "text/plain": [
       "<Figure size 432x288 with 1 Axes>"
      ]
     },
     "metadata": {
      "needs_background": "light"
     },
     "output_type": "display_data"
    }
   ],
   "source": [
    "sns.regplot(x=\"MAX\", y=\"MIN\", data=climate)"
   ]
  },
  {
   "cell_type": "code",
   "execution_count": 21,
   "metadata": {},
   "outputs": [
    {
     "data": {
      "image/png": "[encoded data removed]",
      "text/plain": [
       "<Figure size 432x288 with 2 Axes>"
      ]
     },
     "metadata": {
      "needs_background": "light"
     },
     "output_type": "display_data"
    }
   ],
   "source": [
    "sns.heatmap(climate.corr());# Rotate x-labels with the help of matplotlib\n",
    "plt.xticks(rotation=-45);\n"
   ]
  },
  {
   "cell_type": "code",
   "execution_count": 24,
   "metadata": {},
   "outputs": [
    {
     "data": {
      "text/plain": [
       "<matplotlib.axes._subplots.AxesSubplot at 0x1e2874254a8>"
      ]
     },
     "execution_count": 24,
     "metadata": {},
     "output_type": "execute_result"
    },
    {
     "data": {
      "image/png": "[encoded data removed]",
      "text/plain": [
       "<Figure size 432x288 with 1 Axes>"
      ]
     },
     "metadata": {
      "needs_background": "light"
     },
     "output_type": "display_data"
    }
   ],
   "source": [
    "sns.countplot(x='MIN',data=climate)"
   ]
  },
  {
   "cell_type": "code",
   "execution_count": 25,
   "metadata": {},
   "outputs": [
    {
     "data": {
      "text/plain": [
       "<matplotlib.axes._subplots.AxesSubplot at 0x1e284e32710>"
      ]
     },
     "execution_count": 25,
     "metadata": {},
     "output_type": "execute_result"
    },
    {
     "data": {
      "image/png": "[encoded data removed]",
      "text/plain": [
       "<Figure size 432x288 with 1 Axes>"
      ]
     },
     "metadata": {
      "needs_background": "light"
     },
     "output_type": "display_data"
    }
   ],
   "source": [
    "sns.countplot(x='MEA',data=climate)"
   ]
  },
  {
   "cell_type": "code",
   "execution_count": 27,
   "metadata": {},
   "outputs": [
    {
     "data": {
      "text/plain": [
       "array([[<matplotlib.axes._subplots.AxesSubplot object at 0x000001E289511588>]],\n",
       "      dtype=object)"
      ]
     },
     "execution_count": 27,
     "metadata": {},
     "output_type": "execute_result"
    },
    {
     "data": {
      "image/png": "[encoded data removed]",
      "text/plain": [
       "<Figure size 720x720 with 1 Axes>"
      ]
     },
     "metadata": {
      "needs_background": "light"
     },
     "output_type": "display_data"
    }
   ],
   "source": [
    "cols=['Precip','Date','MEA']\n",
    "pd.plotting.scatter_matrix(climate[cols], figsize = (10, 10), diagonal = 'kde')"
   ]
  },
  {
   "cell_type": "code",
   "execution_count": 31,
   "metadata": {},
   "outputs": [
    {
     "data": {
      "text/plain": [
       "<matplotlib.axes._subplots.AxesSubplot at 0x1e2874afe10>"
      ]
     },
     "execution_count": 31,
     "metadata": {},
     "output_type": "execute_result"
    },
    {
     "data": {
      "image/png": "[encoded data removed]",
      "text/plain": [
       "<Figure size 432x288 with 1 Axes>"
      ]
     },
     "metadata": {
      "needs_background": "light"
     },
     "output_type": "display_data"
    }
   ],
   "source": [
    "climate.plot.scatter(x=\"MAX\", y=\"MEA\")"
   ]
  },
  {
   "cell_type": "code",
   "execution_count": 32,
   "metadata": {},
   "outputs": [
    {
     "data": {
      "text/plain": [
       "<matplotlib.axes._subplots.AxesSubplot at 0x1e286bb0cc0>"
      ]
     },
     "execution_count": 32,
     "metadata": {},
     "output_type": "execute_result"
    },
    {
     "data": {
      "image/png": "[encoded data removed]",
      "text/plain": [
       "<Figure size 432x288 with 1 Axes>"
      ]
     },
     "metadata": {
      "needs_background": "light"
     },
     "output_type": "display_data"
    }
   ],
   "source": [
    "climate.plot.scatter(x=\"MIN\", y=\"MEA\")"
   ]
  },
  {
   "cell_type": "markdown",
   "metadata": {},
   "source": [
    "## Splitting the dataset into train and test"
   ]
  },
  {
   "cell_type": "code",
   "execution_count": 23,
   "metadata": {},
   "outputs": [],
   "source": [
    "\n",
    "y =climate['MaxTemp']"
   ]
  },
  {
   "cell_type": "code",
   "execution_count": 25,
   "metadata": {},
   "outputs": [],
   "source": [
    "\n",
    "X=climate.drop(columns=['MaxTemp'])"
   ]
  },
  {
   "cell_type": "code",
   "execution_count": 26,
   "metadata": {},
   "outputs": [],
   "source": [
    "from sklearn.model_selection import train_test_split\n",
    "X_train,X_test,y_train,y_test =train_test_split(X,y,test_size =0.2,random_state=0)"
   ]
  },
  {
   "cell_type": "markdown",
   "metadata": {},
   "source": [
    "## Importing linear regression model from sklearn to train the simple regression model"
   ]
  },
  {
   "cell_type": "code",
   "execution_count": 27,
   "metadata": {},
   "outputs": [
    {
     "data": {
      "text/plain": [
       "LinearRegression(copy_X=True, fit_intercept=True, n_jobs=None, normalize=False)"
      ]
     },
     "execution_count": 27,
     "metadata": {},
     "output_type": "execute_result"
    }
   ],
   "source": [
    "from sklearn.linear_model import LinearRegression\n",
    "regressor = LinearRegression()\n",
    "regressor.fit(X_train,y_train)"
   ]
  },
  {
   "cell_type": "markdown",
   "metadata": {},
   "source": [
    "### Prediction of the results"
   ]
  },
  {
   "cell_type": "code",
   "execution_count": 28,
   "metadata": {},
   "outputs": [
    {
     "name": "stdout",
     "output_type": "stream",
     "text": [
      "[26.66666667 29.44444444 18.88888889 ... 27.77777778 29.44444444\n",
      " 28.88888889]\n"
     ]
    }
   ],
   "source": [
    "y_pred= regressor.predict(X_test)\n",
    "print(y_pred)"
   ]
  },
  {
   "cell_type": "markdown",
   "metadata": {},
   "source": [
    "# Accuracy score"
   ]
  },
  {
   "cell_type": "code",
   "execution_count": 32,
   "metadata": {},
   "outputs": [
    {
     "data": {
      "text/plain": [
       "1.0"
      ]
     },
     "execution_count": 32,
     "metadata": {},
     "output_type": "execute_result"
    }
   ],
   "source": [
    "from sklearn.metrics import r2_score\n",
    "r2_score(y_pred,y_test)"
   ]
  }
 ],
 "metadata": {
  "kernelspec": {
   "display_name": "Python 3",
   "language": "python",
   "name": "python3"
  },
  "language_info": {
   "codemirror_mode": {
    "name": "ipython",
    "version": 3
   },
   "file_extension": ".py",
   "mimetype": "text/x-python",
   "name": "python",
   "nbconvert_exporter": "python",
   "pygments_lexer": "ipython3",
   "version": "3.7.3"
  }
 },
 "nbformat": 4,
 "nbformat_minor": 2
}
